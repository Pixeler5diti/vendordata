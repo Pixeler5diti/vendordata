{
 "cells": [
  {
   "metadata": {
    "ExecuteTime": {
     "end_time": "2025-10-18T21:44:37.521506Z",
     "start_time": "2025-10-18T21:39:53.338115Z"
    }
   },
   "cell_type": "code",
   "source": [
    "import pandas as pd\n",
    "import os\n",
    "from sqlalchemy import create_engine\n",
    "import time\n",
    "import logging\n",
    "\n",
    "# Configuration for logging\n",
    "logging.basicConfig(\n",
    "    filename=\"logs/ingestion_db.log\",\n",
    "    level=logging.INFO, # Changed to INFO for clearer final logs\n",
    "    format=\"%(asctime)s - %(levelname)s - %(message)s\",\n",
    "    filemode=\"a\"\n",
    ")\n",
    "\n",
    "# Configuration for the database\n",
    "DB_NAME = 'inventory.db'\n",
    "DATA_DIR = 'data' # <-- Use a real folder name here\n",
    "engine = create_engine(f'sqlite:///{DB_NAME}')\n",
    "\n",
    "def ingest_db(df, table_name, engine):\n",
    "    '''This function ingests the DataFrame into the database table using batching.'''\n",
    "    logging.info(f'Inserting {len(df)} rows into table {table_name}')\n",
    "    try:\n",
    "        # Crucial for performance: insert in batches of 50,000 rows\n",
    "        df.to_sql(table_name, con=engine, if_exists='replace', index=False, chunksize=50000)\n",
    "    except Exception as e:\n",
    "        logging.error(f'Failed to ingest {table_name}: {e}')\n",
    "\n",
    "def load_raw_data():\n",
    "    '''This function loads all CSVs as DataFrames and ingests them into the DB.'''\n",
    "\n",
    "    # 1. Start the timer BEFORE the loop\n",
    "    start_time = time.time()\n",
    "\n",
    "    # Check if the directory exists\n",
    "    if not os.path.isdir(DATA_DIR):\n",
    "        logging.error(f\"Directory not found: {DATA_DIR}. Cannot load data.\")\n",
    "        return\n",
    "\n",
    "    # 2. Single, UN-nested loop for iteration\n",
    "    for file in os.listdir(DATA_DIR):\n",
    "        if file.endswith('.csv'):\n",
    "            table_name = file[:-4]\n",
    "            file_path = os.path.join(DATA_DIR, file)\n",
    "\n",
    "            try:\n",
    "                logging.info(f'Loading file: {file}')\n",
    "                df = pd.read_csv(file_path)\n",
    "                ingest_db(df, table_name, engine)\n",
    "\n",
    "            except Exception as e:\n",
    "                logging.error(f'Error processing {file_path}: {e}')\n",
    "\n",
    "    # 3. Calculate and log total time AFTER the loop\n",
    "    end_time = time.time()\n",
    "    total_time_minutes = (end_time - start_time) / 60\n",
    "\n",
    "    logging.info('='*30)\n",
    "    logging.info('ALL INGESTION COMPLETE')\n",
    "    logging.info(f'Total time taken: {total_time_minutes:.2f} minutes')\n",
    "    logging.info('='*30)\n",
    "\n",
    "if __name__ == '__main__':\n",
    "    load_raw_data()"
   ],
   "id": "e1c1a9c36eb99c80",
   "outputs": [],
   "execution_count": 7
  },
  {
   "metadata": {},
   "cell_type": "code",
   "outputs": [],
   "execution_count": null,
   "source": "",
   "id": "22a44dc0f51c30b0"
  }
 ],
 "metadata": {
  "kernelspec": {
   "display_name": "Python 3",
   "language": "python",
   "name": "python3"
  },
  "language_info": {
   "codemirror_mode": {
    "name": "ipython",
    "version": 2
   },
   "file_extension": ".py",
   "mimetype": "text/x-python",
   "name": "python",
   "nbconvert_exporter": "python",
   "pygments_lexer": "ipython2",
   "version": "2.7.6"
  }
 },
 "nbformat": 4,
 "nbformat_minor": 5
}
